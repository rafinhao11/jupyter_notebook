{
 "cells": [
  {
   "cell_type": "markdown",
   "id": "295ec9f1",
   "metadata": {},
   "source": [
    "Python - Udemy"
   ]
  },
  {
   "cell_type": "code",
   "execution_count": null,
   "id": "4cfedb7c",
   "metadata": {},
   "outputs": [],
   "source": [
    "#Exercício 1\n",
    "i = 0\n",
    "while i <= 10:\n",
    "    r = i - 3 * int(i / 3)\n",
    "    if r == 0:\n",
    "        print(i)\n",
    "    i = i + 1\n",
    "\n",
    "for i in range(0, 11, 1):\n",
    "    r = i - 3 * int(i / 3)\n",
    "    if r == 0:\n",
    "        print(i)"
   ]
  },
  {
   "cell_type": "code",
   "execution_count": null,
   "id": "1f10f6a5",
   "metadata": {},
   "outputs": [],
   "source": [
    "#Exercício 2\n",
    "i = 1\n",
    "while i <= 100:\n",
    "    print(i, i, i)\n",
    "    i = i + 1\n",
    "\n",
    "for i in range(1, 101):\n",
    "    print(i, i, i)"
   ]
  },
  {
   "cell_type": "code",
   "execution_count": null,
   "id": "6fe129bc",
   "metadata": {},
   "outputs": [],
   "source": [
    "#Exercício 3\n",
    "i = 10\n",
    "while i >= 0:\n",
    "    print(i)\n",
    "    i = i - 1\n",
    "print(\"Fim!\")\n",
    "\n",
    "for i in range(10, -1, -1):\n",
    "    print(i)\n",
    "print(\"Fim!\")"
   ]
  },
  {
   "cell_type": "code",
   "execution_count": null,
   "id": "8b59b0a7",
   "metadata": {},
   "outputs": [],
   "source": [
    "#Exercício 4\n",
    "i = 0\n",
    "while i <= 100_000:\n",
    "    print(i)\n",
    "    i = i + 1000\n",
    "\n",
    "for i in range(0, 100_001, 1000):\n",
    "    print(i)"
   ]
  },
  {
   "cell_type": "code",
   "execution_count": null,
   "id": "7193b742",
   "metadata": {},
   "outputs": [],
   "source": [
    "#Exercício 5\n",
    "soma = 0\n",
    "i = 1\n",
    "while i <= 10:\n",
    "    n = int(input(\"Valor: \"))\n",
    "    soma = soma + n\n",
    "    i = i + 1\n",
    "print(soma)\n",
    "\n",
    "for i in range (1, 11):\n",
    "    n = int(input(\"Valor: \"))\n",
    "    soma = soma + n\n",
    "print(soma)"
   ]
  },
  {
   "cell_type": "code",
   "execution_count": null,
   "id": "38887314",
   "metadata": {},
   "outputs": [],
   "source": [
    "#Exercício 6\n",
    "soma = 0\n",
    "media = 0\n",
    "i = 1\n",
    "while i <= 10:\n",
    "    n = int(input(\"Valor: \"))\n",
    "    soma = soma + n\n",
    "    i = i + 1\n",
    "media = soma / i\n",
    "print(media)"
   ]
  },
  {
   "cell_type": "code",
   "execution_count": null,
   "id": "a026b255",
   "metadata": {},
   "outputs": [],
   "source": [
    "#Exercício 7\n",
    "soma = 0\n",
    "media = 0\n",
    "i = 1\n",
    "while i <= 10:\n",
    "    n = int(input(\"Valor: \"))\n",
    "    if n > 0:\n",
    "        soma = soma + n\n",
    "    i = i + 1\n",
    "media = soma / 10\n",
    "print(media)\n",
    "\n",
    "for i in range(1, 11):\n",
    "    n = int(input(\"Valor: \"))\n",
    "    if n > 0:\n",
    "        soma = soma + n\n",
    "media = soma / 10\n",
    "print(media)"
   ]
  },
  {
   "cell_type": "code",
   "execution_count": null,
   "id": "14b39be2",
   "metadata": {},
   "outputs": [],
   "source": [
    "#Exercício 8\n",
    "i = 1\n",
    "valor_menor = 0\n",
    "valor_maior = 0\n",
    "while i <= 10:\n",
    "    n = int(input(\"Valor: \"))\n",
    "    if n >= valor_maior:\n",
    "        valor_maior = n\n",
    "    if n <= valor_menor:\n",
    "        valor_menor = n\n",
    "    i = i + 1\n",
    "print(valor_menor, valor_maior)"
   ]
  },
  {
   "cell_type": "code",
   "execution_count": null,
   "id": "001e2a26",
   "metadata": {},
   "outputs": [],
   "source": [
    "#Exercício 9\n",
    "n = int(input(\"Valor: \"))\n",
    "i = n\n",
    "while i <= 10:\n",
    "    r = n - 2 * int(i / 2)\n",
    "    if r != 0:\n",
    "        print(n)\n",
    "    n = n + 1\n",
    "    i = i + 1"
   ]
  },
  {
   "cell_type": "code",
   "execution_count": null,
   "id": "9dcfb441",
   "metadata": {},
   "outputs": [],
   "source": [
    "#Exercício 10\n",
    "i = 1\n",
    "while i <= 50:\n",
    "    if i % 2 == 0:\n",
    "        print(i)\n",
    "    i = i + 1\n",
    "\n",
    "for i in range (1, 51):\n",
    "    if i % 2 == 0:\n",
    "        print(i)"
   ]
  },
  {
   "cell_type": "code",
   "execution_count": null,
   "id": "26c6f448",
   "metadata": {},
   "outputs": [],
   "source": [
    "#Exercício 11\n",
    "n = int(input(\"Valor: \"))\n",
    "i = 0\n",
    "while i <= n:\n",
    "    print(i)\n",
    "    i = i + 1\n",
    "\n",
    "for i in range(0, n + 1):\n",
    "    print(i)"
   ]
  },
  {
   "cell_type": "code",
   "execution_count": null,
   "id": "51aba9e0",
   "metadata": {},
   "outputs": [],
   "source": [
    "#Exercicio 12\n",
    "n = int(input(\"Valor: \"))\n",
    "while n >= 0:\n",
    "    print(n)\n",
    "    n = n - 1\n",
    "\n",
    "i = 0\n",
    "for i in range(n, -1, -1):\n",
    "    print(i)"
   ]
  },
  {
   "cell_type": "code",
   "execution_count": null,
   "id": "5ec3bdb0",
   "metadata": {},
   "outputs": [],
   "source": [
    "#Exercicio 13\n",
    "n = int(input(\"Valor: \"))\n",
    "i = 0\n",
    "while i <= n:\n",
    "    r = i - 2 * int(i / 2)\n",
    "    if r == 0:\n",
    "        print(i)\n",
    "    i = i + 1\n",
    "\n",
    "for i in range(0, n):\n",
    "    r = i - 2 * int(i / 2)\n",
    "    if r == 0:\n",
    "        print(i)"
   ]
  },
  {
   "cell_type": "code",
   "execution_count": null,
   "id": "19c48316",
   "metadata": {},
   "outputs": [],
   "source": [
    "#Exercício 14\n",
    "n = int(input(\"Valor: \"))\n",
    "while n >= 0:\n",
    "    r = n - 2 * int(n / 2)\n",
    "    if r == 0:\n",
    "        print(n)\n",
    "    n = n - 1\n",
    "\n",
    "i = 0\n",
    "for i in range(n, -1, -1):\n",
    "    r = i - 2 * int(i / 2)\n",
    "    if r == 0:\n",
    "        print(i)"
   ]
  },
  {
   "cell_type": "code",
   "execution_count": null,
   "id": "ec9c2a3b",
   "metadata": {},
   "outputs": [],
   "source": [
    "#Exercício 15\n",
    "n = int(input(\"Valor: \"))\n",
    "i = 0\n",
    "while i <= n:\n",
    "    r = i - 2 * int(i / 2)\n",
    "    if r != 0:\n",
    "        print(i)\n",
    "    i = i + 1\n",
    "\n",
    "for i in range(0, n + 1):\n",
    "    r = i - 2 * int(i / 2)\n",
    "    if r != 0:\n",
    "        print(i)"
   ]
  },
  {
   "cell_type": "code",
   "execution_count": null,
   "id": "493889c9",
   "metadata": {},
   "outputs": [],
   "source": [
    "#Exercício 16\n",
    "n = int(input(\"Valor: \"))\n",
    "while n >= 0:\n",
    "    r = n - 2 * int(n / 2)\n",
    "    if r != 0:\n",
    "        print(n)\n",
    "    n = n - 1\n",
    "\n",
    "i = 0\n",
    "for i in range(n, -1, -1):\n",
    "    r = i - 2 * int(i / 2)\n",
    "    if r != 0:\n",
    "        print(i)"
   ]
  },
  {
   "cell_type": "code",
   "execution_count": null,
   "id": "c49e9240",
   "metadata": {},
   "outputs": [],
   "source": [
    "#Exercício 17\n",
    "n = int(input(\"Valor: \"))\n",
    "soma = 0\n",
    "while n >= 0:\n",
    "    soma = soma + n\n",
    "    n = n - 1\n",
    "print(soma)"
   ]
  },
  {
   "cell_type": "code",
   "execution_count": null,
   "id": "1d250634",
   "metadata": {},
   "outputs": [],
   "source": [
    "#Exercício 18\n",
    "qtd = int(input(\"Quantidade: \"))\n",
    "i = 0\n",
    "cont = 0\n",
    "valor_maior = 0\n",
    "while i <= qtd:\n",
    "    n = int(input(\"Valor: \"))\n",
    "    if n > valor_maior:\n",
    "        valor_maior = n\n",
    "    if valor_maior == n:\n",
    "        cont = cont + 1\n",
    "    i = i + 1\n",
    "print(valor_maior, cont)"
   ]
  },
  {
   "cell_type": "code",
   "execution_count": null,
   "id": "f03629e7",
   "metadata": {},
   "outputs": [],
   "source": [
    "#Exercício 19\n",
    "i = 100\n",
    "while i <= 999:\n",
    "    numero = i\n",
    "    unidade = i % 10\n",
    "    numero = (numero - unidade)/10\n",
    "    dezena = numero % 10\n",
    "    numero = (numero - dezena)/10\n",
    "    centena = numero\n",
    "    dezena = int(dezena)\n",
    "    centena = int(centena)\n",
    "    print(centena, dezena, unidade)\n",
    "    i = i + 1"
   ]
  },
  {
   "cell_type": "code",
   "execution_count": null,
   "id": "9cc858d4",
   "metadata": {},
   "outputs": [],
   "source": [
    "#Exercício 20\n",
    "\n",
    "qtd = int(input(\"Quantidade :\"))\n",
    "i = 0\n",
    "while i <= qtd:\n",
    "    n = int(input(\"Valor :\"))\n",
    "    if n == 1000:\n",
    "         break\n",
    "    else:\n",
    "        r = n - 2 * int(n / 2)\n",
    "        if r == 0:\n",
    "            print(\"par!\")\n",
    "        else:\n",
    "            print(\"ímpar!\")"
   ]
  },
  {
   "cell_type": "code",
   "execution_count": null,
   "id": "e202b4de",
   "metadata": {},
   "outputs": [],
   "source": [
    "# Exercício 21\n",
    "a = int(input(\"B: \"))\n",
    "b = int(input(\"A: \"))\n",
    "soma = 0\n",
    "multiplicacao = 1\n",
    "while a <= b:\n",
    "    r = a - 2 * int(a / 2)\n",
    "    if r == 0:\n",
    "        soma = soma + a\n",
    "    else:\n",
    "        multiplicacao = multiplicacao * a\n",
    "    a = a + 1\n",
    "print(soma, multiplicacao)"
   ]
  },
  {
   "cell_type": "code",
   "execution_count": null,
   "id": "9db9304b",
   "metadata": {},
   "outputs": [],
   "source": [
    "#Exercício 22\n",
    "i = 0\n",
    "count = 0\n",
    "\n",
    "n = float(input(\"Nota: \"))\n",
    "while n >=10 and n <= 20:\n",
    "    n = float(input(\"Nota: \"))\n",
    "    soma = soma + n\n",
    "    count = count + 1\n",
    "media = soma / count\n",
    "print(media)"
   ]
  },
  {
   "cell_type": "code",
   "execution_count": null,
   "id": "c322b45a",
   "metadata": {},
   "outputs": [],
   "source": [
    "#Exercício 23\n",
    "n =  int(input(\"Valor: \"))\n",
    "i = 1\n",
    "\n",
    "while i <= n:\n",
    "    if n % i == 0:\n",
    "        print(i)\n",
    "    i = i + 1\n"
   ]
  },
  {
   "cell_type": "code",
   "execution_count": null,
   "id": "2d53b6c5",
   "metadata": {},
   "outputs": [],
   "source": [
    "#Exercício 24\n",
    "\n",
    "n = int(input(\"Valor: \"))\n",
    "soma = 0\n",
    "i = 1\n",
    "while i <= n:\n",
    "    if n % i == 0:\n",
    "        soma = soma + i\n",
    "    i = i + 1\n",
    "print(soma)"
   ]
  },
  {
   "cell_type": "code",
   "execution_count": null,
   "id": "5615df88",
   "metadata": {},
   "outputs": [],
   "source": [
    "#Exercício 25\n",
    "i = 1\n",
    "while i <= 1000:\n",
    "    r3 = i - 3 * int(i / 3)\n",
    "    r5 = i - 5 * int(i / 5)\n",
    "    if r3 == 0 and r5 == 0:\n",
    "        soma = soma + i\n",
    "    i = i + 1\n",
    "print(soma) "
   ]
  },
  {
   "cell_type": "code",
   "execution_count": null,
   "id": "1c65c579",
   "metadata": {},
   "outputs": [],
   "source": [
    "#Exercício 26\n",
    "n = int(input(\"Valor: \"))\n",
    "i = n\n",
    "while i <= n:\n",
    "    r11 = n - 11 * int(n / 11) \n",
    "    r13 = n - 13 * int(n / 13)\n",
    "    r17 = n - 17 * int(n / 17)\n",
    "    if r11 == 0 or r13 == 0 or r17 == 0:\n",
    "        print('é multiplo')\n",
    "    else:\n",
    "        print('não é multiplo')\n",
    "    i = i + 1"
   ]
  },
  {
   "cell_type": "code",
   "execution_count": null,
   "id": "1013f1ed",
   "metadata": {},
   "outputs": [],
   "source": [
    "#Exercício 27 - Soma Harmônica\n",
    "n = int(input(\"Valor: \"))\n",
    "soma = 0\n",
    "for i in range(1, n + 1):\n",
    "    soma = soma + 1 / i\n",
    "print(soma)"
   ]
  },
  {
   "cell_type": "code",
   "execution_count": null,
   "id": "fbb72a81",
   "metadata": {},
   "outputs": [],
   "source": [
    "#Exercício 28 - Soma E(?)\n",
    "n = int(input('Valor:' ))\n",
    "soma = 0\n",
    "fat = 1\n",
    "for i in range(1, n + 1):\n",
    "    fat = fat * n\n",
    "    soma = soma + 1 / fat\n",
    "print(soma)"
   ]
  },
  {
   "cell_type": "code",
   "execution_count": null,
   "id": "89904345",
   "metadata": {},
   "outputs": [],
   "source": [
    "#Exercício 29 - Valor de Série\n",
    "i = 0\n",
    "soma = 0\n",
    "fat = 1\n",
    "def fat(k):\n",
    "    if k == 0:\n",
    "        return 1\n",
    "    else:\n",
    "        return fat(k - 1) * k\n",
    "\n",
    "for i in range(0, 5):\n",
    "    soma = soma + i / fat(2 * i)\n",
    "    print(soma)\n"
   ]
  },
  {
   "cell_type": "code",
   "execution_count": null,
   "id": "8f6fb88e",
   "metadata": {},
   "outputs": [],
   "source": [
    "#Exercício 30\n",
    "n = int(input(\"Valor: \"))\n",
    "soma1 = 0\n",
    "soma2 = 0\n",
    "soma3 = 0\n",
    "i = 0\n",
    "for i in range(1, n):\n",
    "    soma1 = soma1 + i\n",
    "print(soma1)\n",
    "\n",
    "for i in range(1, n):\n",
    "    r = i - 2 * int(i / 2)\n",
    "    if r != 0:\n",
    "        soma2 = soma2 + i\n",
    "print(soma2)\n",
    "\n",
    "for i in range(1, n):\n",
    "    r = i - 2 * int(i / 2)\n",
    "    if r != 0:\n",
    "        soma3 = soma3 + i\n",
    "    else:\n",
    "        soma3 = soma3 - i\n",
    "print(soma3)"
   ]
  },
  {
   "cell_type": "code",
   "execution_count": null,
   "id": "dc78c7dd",
   "metadata": {},
   "outputs": [],
   "source": [
    "#Exercício 31\n",
    "div1 = 100\n",
    "div2 = 50\n",
    "soma = 0\n",
    "\n",
    "for i in range(1, div1):\n",
    "    r = i - 2 * int(i / 2)\n",
    "    if r != 0:\n",
    "        div1 = i\n",
    "    soma = soma + (div1 / div2)\n",
    "print(soma)"
   ]
  },
  {
   "cell_type": "code",
   "execution_count": null,
   "id": "8d11aa2f",
   "metadata": {},
   "outputs": [],
   "source": [
    "#Exercício 32\n",
    "import random\n",
    "\n",
    "vezes = int(input(\"Vezes: \"))\n",
    "\n",
    "for i in range(0, vezes):\n",
    "    dado1 = [random.randint(1, 6)]\n",
    "    dado2 = [random.randint(1, 6)]\n",
    "    if dado1 ==  dado2:\n",
    "        print('é igual')\n",
    "    elif dado1 > dado2:\n",
    "        print('dado 1 é maior')\n",
    "    else:\n",
    "        print('dado 2 é maior')"
   ]
  },
  {
   "cell_type": "code",
   "execution_count": null,
   "id": "1c17eb8d",
   "metadata": {},
   "outputs": [],
   "source": [
    "#Exercício 33\n",
    "n = int(input(\"Digite n: \"))\n",
    "i = int(input(\"Digite i: \"))\n",
    "j = int(input(\"Digite j: \"))\n",
    "\n",
    "\n",
    "for k in range(i,i+1):\n",
    "    for l in range(0,n):\n",
    "        print(\"{}*{} = {}\".format(k,l,k*l))\n",
    "\n",
    "\n",
    "\n",
    "for k in range(j,j+1):\n",
    "    for l in range(0,n):\n",
    "        print(\"{}*{} = {}\".format(k,l,k*l))"
   ]
  },
  {
   "cell_type": "code",
   "execution_count": null,
   "id": "61f72129",
   "metadata": {},
   "outputs": [],
   "source": [
    "#Exercício 34\n",
    "n = int(input(\"Valor: \"))\n",
    "for i in range(1, 20):\n",
    "    r = n - i * int(n / i)\n",
    "    if r == 0:\n",
    "        print(i)"
   ]
  },
  {
   "cell_type": "code",
   "execution_count": null,
   "id": "330d0d8f",
   "metadata": {},
   "outputs": [],
   "source": [
    "#Exercício 35\n",
    "n1 = int(input('Valor: '))\n",
    "n2 = int(input('Valor: '))\n",
    "soma = 0\n",
    "\n",
    "for i in range(n1, n2 + 1):\n",
    "    r = i - 2 * int(i / 2)\n",
    "    if r != 0:\n",
    "        soma = soma + i\n",
    "print(soma)"
   ]
  },
  {
   "cell_type": "code",
   "execution_count": null,
   "id": "35497402",
   "metadata": {},
   "outputs": [],
   "source": [
    "#Exercício 36\n",
    "soma1 = 0\n",
    "soma2 = 0\n",
    "\n",
    "for i in range(1, 101):\n",
    "    soma1 = soma1 + (i ** 2)\n",
    "print(soma1)\n",
    "\n",
    "for j in range(1, 101):\n",
    "    soma2 = soma2 + j\n",
    "print(soma2)\n",
    "soma_total = soma1 - soma2\n",
    "\n",
    "print(soma_total)"
   ]
  },
  {
   "cell_type": "code",
   "execution_count": null,
   "id": "6bdf48cf",
   "metadata": {},
   "outputs": [],
   "source": [
    "#Exercicio 37\n",
    "num = 1000\n",
    "while num <= 9999:\n",
    "    if num == ((num/100)+(num%100))*((num/100)+(num%100)):\n",
    "        print(num,num/100,num%100,(num/100)+(num%100),(num/100)+(num%100),num)\n",
    "    num = num + 1"
   ]
  },
  {
   "cell_type": "code",
   "execution_count": null,
   "id": "d85a56b2",
   "metadata": {},
   "outputs": [],
   "source": [
    "#Exercício 38 - by Rafael J Souza\n",
    "\n",
    "c = int(input('Valor: '))\n",
    "truco = True\n",
    "while truco:\n",
    "    for b in range(2, 1000-c):\n",
    "        for a in range(1, b):\n",
    "            if a + b +c ==1000 and a**2 + b**2 == c**2:\n",
    "                truco = False\n",
    "                print(a,b,c)\n",
    "                print(a*b*c)\n",
    "                break\n",
    "    c -=1"
   ]
  },
  {
   "cell_type": "code",
   "execution_count": null,
   "id": "e65a8e82",
   "metadata": {},
   "outputs": [],
   "source": [
    "#Exercício 39\n",
    "base = 0\n",
    "altura = 0\n",
    "area = 0\n",
    "\n",
    "while base >= 0 and altura >= 0:\n",
    "    base = int(input('Base: '))\n",
    "    altura = int(input('Altura: '))\n",
    "    if base <= 0 and altura <= 0:\n",
    "        print('inválida')\n",
    "    else:\n",
    "        area = (base * altura) / 2\n",
    "print(area)"
   ]
  },
  {
   "cell_type": "code",
   "execution_count": null,
   "id": "6f8fcfdf",
   "metadata": {},
   "outputs": [],
   "source": [
    "#Exercício 40\n",
    "valor_menor = 0\n",
    "valor_maior = 0\n",
    "n = 0\n",
    "while n >= 0:\n",
    "    n = int(input('Valor: '))\n",
    "    if valor_maior <= n:\n",
    "        valor_maior = n\n",
    "    if valor_menor >= n:\n",
    "        valor_menor = n\n",
    "print(valor_menor, valor_maior)"
   ]
  }
 ],
 "metadata": {
  "interpreter": {
   "hash": "4217655bf2a53fa8aa068d748adf8f3d641c8856c5966da1a8d224268638c379"
  },
  "kernelspec": {
   "display_name": "Python 3.9.5 ('base')",
   "language": "python",
   "name": "python3"
  },
  "language_info": {
   "codemirror_mode": {
    "name": "ipython",
    "version": 3
   },
   "file_extension": ".py",
   "mimetype": "text/x-python",
   "name": "python",
   "nbconvert_exporter": "python",
   "pygments_lexer": "ipython3",
   "version": "3.9.5"
  }
 },
 "nbformat": 4,
 "nbformat_minor": 5
}
